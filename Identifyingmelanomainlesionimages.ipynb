{
  "nbformat": 4,
  "nbformat_minor": 0,
  "metadata": {
    "kernelspec": {
      "display_name": "Python 3",
      "language": "python",
      "name": "python3"
    },
    "language_info": {
      "codemirror_mode": {
        "name": "ipython",
        "version": 3
      },
      "file_extension": ".py",
      "mimetype": "text/x-python",
      "name": "python",
      "nbconvert_exporter": "python",
      "pygments_lexer": "ipython3",
      "version": "3.7.6"
    },
    "papermill": {
      "duration": 697.312347,
      "end_time": "2020-12-28T20:32:14.206088",
      "environment_variables": {},
      "exception": null,
      "input_path": "__notebook__.ipynb",
      "output_path": "__notebook__.ipynb",
      "parameters": {},
      "start_time": "2020-12-28T20:20:36.893741",
      "version": "2.1.0"
    },
    "colab": {
      "name": " Identifyingmelanomainlesionimages.ipynb",
      "provenance": [],
      "collapsed_sections": []
    }
  },
  "cells": [
    {
      "cell_type": "markdown",
      "metadata": {
        "papermill": {
          "duration": 0.044195,
          "end_time": "2020-12-28T20:20:42.481206",
          "exception": false,
          "start_time": "2020-12-28T20:20:42.437011",
          "status": "completed"
        },
        "tags": [],
        "id": "sHs7XFk8thfy"
      },
      "source": [
        "# **SIIM**\n",
        "\n",
        "\n",
        "The Society for Imaging Informatics in Medicine (SIIM) is the leading healthcare professional organization for those interested in the current and future use of informatics in medical imaging. The society's mission is to advance medical imaging informatics across the enterprise through education, research, and innovation in a multi-disciplinary community"
      ]
    },
    {
      "cell_type": "markdown",
      "metadata": {
        "id": "YHzd_oWfqgPg"
      },
      "source": [
        ""
      ]
    },
    {
      "cell_type": "markdown",
      "metadata": {
        "papermill": {
          "duration": 0.043153,
          "end_time": "2020-12-28T20:20:42.569940",
          "exception": false,
          "start_time": "2020-12-28T20:20:42.526787",
          "status": "completed"
        },
        "tags": [],
        "id": "Bu3p8WyDthf0"
      },
      "source": [
        "![](https://drive.google.com/uc?id=1Yhk63WM5MCTj0KLhhdGeiXsp8oaSxhTK)\n",
        "\n",
        "Image Source : siim.org"
      ]
    },
    {
      "cell_type": "markdown",
      "metadata": {
        "papermill": {
          "duration": 0.042843,
          "end_time": "2020-12-28T20:20:42.656724",
          "exception": false,
          "start_time": "2020-12-28T20:20:42.613881",
          "status": "completed"
        },
        "tags": [],
        "id": "6fChY2i_thf1"
      },
      "source": [
        "# **ISIC :**\n",
        "\n",
        "The International Skin Imaging Collaboration: Melanoma Project is an academia and industry partnership designed to facilitate the application of digital skin imaging to help reduce melanoma mortality. When recognized and treated in its earliest stages, melanoma is readily curable. Digital images of skin lesions can be used to educate professionals and the public in melanoma recognition as well as directly aid in the diagnosis of melanoma through teledermatology, clinical decision support, and automated diagnosis.\n"
      ]
    },
    {
      "cell_type": "markdown",
      "metadata": {
        "papermill": {
          "duration": 0.042396,
          "end_time": "2020-12-28T20:20:42.743872",
          "exception": false,
          "start_time": "2020-12-28T20:20:42.701476",
          "status": "completed"
        },
        "tags": [],
        "id": "yb5oaUIAthf2"
      },
      "source": [
        "# **Skin Cancer :**\n",
        "\n",
        "Skin cancer is the most prevalent type of cancer. Melanoma, specifically, is responsible for 75% of skin cancer deaths, despite being the least common skin cancer. The American Cancer Society estimates over 100,000 new melanoma cases will be diagnosed in 2020. It's also expected that almost 7,000 people will die from the disease. As with other cancers, early and accurate detection—potentially aided by data science—can make treatment more effective.\n"
      ]
    },
    {
      "cell_type": "markdown",
      "metadata": {
        "papermill": {
          "duration": 0.04301,
          "end_time": "2020-12-28T20:20:42.830286",
          "exception": false,
          "start_time": "2020-12-28T20:20:42.787276",
          "status": "completed"
        },
        "tags": [],
        "id": "mapm1Dz9thf4"
      },
      "source": [
        "# **Problem Statement :**\n",
        "\n",
        "In this workshop , you’ll identify melanoma in images of skin lesions and you’ll use images within the same patient and determine which are likely to represent a melanoma. Using patient-level contextual information may help the development of image analysis tools, which could better support clinical dermatologists.\n"
      ]
    },
    {
      "cell_type": "markdown",
      "metadata": {
        "papermill": {
          "duration": 0.049352,
          "end_time": "2020-12-28T20:20:42.924758",
          "exception": false,
          "start_time": "2020-12-28T20:20:42.875406",
          "status": "completed"
        },
        "tags": [],
        "id": "gfyE84u5thf6"
      },
      "source": [
        "![](https://drive.google.com/uc?id=11uCu4Bl5YHEi_xcfZ1Q86W3sOhJ6tvLy)"
      ]
    },
    {
      "cell_type": "markdown",
      "metadata": {
        "papermill": {
          "duration": 0.043141,
          "end_time": "2020-12-28T20:20:43.016456",
          "exception": false,
          "start_time": "2020-12-28T20:20:42.973315",
          "status": "completed"
        },
        "tags": [],
        "id": "TissrE1vthf8"
      },
      "source": [
        "# **Installing the Libraries**"
      ]
    },
    {
      "cell_type": "code",
      "metadata": {
        "execution": {
          "iopub.execute_input": "2020-12-28T20:20:43.108891Z",
          "iopub.status.busy": "2020-12-28T20:20:43.108082Z",
          "iopub.status.idle": "2020-12-28T20:21:05.138012Z",
          "shell.execute_reply": "2020-12-28T20:21:05.137210Z"
        },
        "id": "bqeZJ9juDVzv",
        "papermill": {
          "duration": 22.078852,
          "end_time": "2020-12-28T20:21:05.138171",
          "exception": false,
          "start_time": "2020-12-28T20:20:43.059319",
          "status": "completed"
        },
        "tags": []
      },
      "source": [
        "!pip install -q --upgrade pip\n",
        "!pip install -q efficientnet"
      ],
      "execution_count": null,
      "outputs": []
    },
    {
      "cell_type": "code",
      "metadata": {
        "_cell_guid": "b1076dfc-b9ad-4769-8c92-a6c4dae69d19",
        "_uuid": "8f2839f25d086af736a60e9eeb907d3b93b6e0e5",
        "execution": {
          "iopub.execute_input": "2020-12-28T20:21:05.233915Z",
          "iopub.status.busy": "2020-12-28T20:21:05.233136Z",
          "iopub.status.idle": "2020-12-28T20:21:13.145353Z",
          "shell.execute_reply": "2020-12-28T20:21:13.144506Z"
        },
        "id": "C5TEL9qDDV0F",
        "papermill": {
          "duration": 7.963466,
          "end_time": "2020-12-28T20:21:13.145493",
          "exception": false,
          "start_time": "2020-12-28T20:21:05.182027",
          "status": "completed"
        },
        "tags": []
      },
      "source": [
        "import re\n",
        "import os\n",
        "import numpy as np\n",
        "import pandas as pd\n",
        "import tensorflow as tf\n",
        "from functools import partial\n",
        "import efficientnet.tfkeras as efn\n",
        "from kaggle_datasets import KaggleDatasets\n",
        "from sklearn.model_selection import train_test_split"
      ],
      "execution_count": null,
      "outputs": []
    },
    {
      "cell_type": "markdown",
      "metadata": {
        "papermill": {
          "duration": 0.042867,
          "end_time": "2020-12-28T20:21:13.230850",
          "exception": false,
          "start_time": "2020-12-28T20:21:13.187983",
          "status": "completed"
        },
        "tags": [],
        "id": "TbASpm80thf_"
      },
      "source": [
        "# TPU\n",
        "\n",
        "\n",
        "![](https://drive.google.com/uc?id=1q6AUi9XZRRWBjov49PSl3thB9idGsUKV)"
      ]
    },
    {
      "cell_type": "markdown",
      "metadata": {
        "papermill": {
          "duration": 0.042028,
          "end_time": "2020-12-28T20:21:13.315991",
          "exception": false,
          "start_time": "2020-12-28T20:21:13.273963",
          "status": "completed"
        },
        "tags": [],
        "id": "hbSFBEzHthgA"
      },
      "source": [
        "Tensor Processing Units (TPUs) are Google's custom-developed application-specific integrated circuits (ASICs) used to accelerate machine learning workloads.It's easy to run replicated models on Cloud TPU using High-level Tensorflow APIs .\n"
      ]
    },
    {
      "cell_type": "markdown",
      "metadata": {
        "papermill": {
          "duration": 0.043308,
          "end_time": "2020-12-28T20:21:13.401685",
          "exception": false,
          "start_time": "2020-12-28T20:21:13.358377",
          "status": "completed"
        },
        "tags": [],
        "id": "UYp96ZmkthgB"
      },
      "source": [
        "![](https://drive.google.com/uc?id=1-EAdsgcuVsFKO1ru00TTrKePRnv-6FHv)"
      ]
    },
    {
      "cell_type": "markdown",
      "metadata": {
        "papermill": {
          "duration": 0.042552,
          "end_time": "2020-12-28T20:21:13.487713",
          "exception": false,
          "start_time": "2020-12-28T20:21:13.445161",
          "status": "completed"
        },
        "tags": [],
        "id": "hnm9HiRXthgC"
      },
      "source": [
        "# Performance : \n",
        "\n",
        "TPU can achieve a high computational throughput on massive multiplications and additions for neural networks , at blazingly fast speeds with much less power consumption and smaller footprint.\n"
      ]
    },
    {
      "cell_type": "markdown",
      "metadata": {
        "papermill": {
          "duration": 0.041927,
          "end_time": "2020-12-28T20:21:13.572688",
          "exception": false,
          "start_time": "2020-12-28T20:21:13.530761",
          "status": "completed"
        },
        "tags": [],
        "id": "aonVrASqthgC"
      },
      "source": [
        "![](https://drive.google.com/uc?id=18f8gdJOsNad_ZBESxhxxo2SVIf-IaYGR)"
      ]
    },
    {
      "cell_type": "markdown",
      "metadata": {
        "papermill": {
          "duration": 0.041961,
          "end_time": "2020-12-28T20:21:13.656643",
          "exception": false,
          "start_time": "2020-12-28T20:21:13.614682",
          "status": "completed"
        },
        "tags": [],
        "id": "NPClM7oythgD"
      },
      "source": [
        "📌 **TPU Initialization:** TPUs  are usually on Cloud TPU workers and hence have to be connected to remote clusters and then initialized .\n",
        "\n",
        "📌 **Distribution strategies :** A distribution strategy is an abstraction that can be used to drive models on CPU, GPUs or TPUs. "
      ]
    },
    {
      "cell_type": "markdown",
      "metadata": {
        "papermill": {
          "duration": 0.041686,
          "end_time": "2020-12-28T20:21:13.740255",
          "exception": false,
          "start_time": "2020-12-28T20:21:13.698569",
          "status": "completed"
        },
        "tags": [],
        "id": "Y754KxBBthgE"
      },
      "source": [
        "Credit : The code has been adapted from @mgornergooglestater kernel on Flower classification on TPUs"
      ]
    },
    {
      "cell_type": "code",
      "metadata": {
        "_cell_guid": "79c7e3d0-c299-4dcb-8224-4455121ee9b0",
        "_uuid": "d629ff2d2480ee46fbb7e2d37f6b5fab8052498a",
        "execution": {
          "iopub.execute_input": "2020-12-28T20:21:13.943459Z",
          "iopub.status.busy": "2020-12-28T20:21:13.876139Z",
          "iopub.status.idle": "2020-12-28T20:21:43.422771Z",
          "shell.execute_reply": "2020-12-28T20:21:43.423435Z"
        },
        "id": "hyQk56psDV0U",
        "papermill": {
          "duration": 29.641331,
          "end_time": "2020-12-28T20:21:43.423736",
          "exception": false,
          "start_time": "2020-12-28T20:21:13.782405",
          "status": "completed"
        },
        "tags": [],
        "outputId": "57f42752-745e-490e-aa3a-a30c605875bc"
      },
      "source": [
        "try:\n",
        "    tpu = tf.distribute.cluster_resolver.TPUClusterResolver()\n",
        "    print('Device:', tpu.master())\n",
        "    tf.config.experimental_connect_to_cluster(tpu)\n",
        "    tf.tpu.experimental.initialize_tpu_system(tpu)\n",
        "    strategy = tf.distribute.experimental.TPUStrategy(tpu)\n",
        "except:\n",
        "    strategy = tf.distribute.get_strategy()\n",
        "print('Number of replicas:', strategy.num_replicas_in_sync)"
      ],
      "execution_count": null,
      "outputs": [
        {
          "output_type": "stream",
          "text": [
            "Device: grpc://10.0.0.3:8470\n",
            "Number of replicas: 32\n"
          ],
          "name": "stdout"
        }
      ]
    },
    {
      "cell_type": "markdown",
      "metadata": {
        "papermill": {
          "duration": 0.049142,
          "end_time": "2020-12-28T20:21:43.520443",
          "exception": false,
          "start_time": "2020-12-28T20:21:43.471301",
          "status": "completed"
        },
        "tags": [],
        "id": "wXvfs0ESthgG"
      },
      "source": [
        "<div class=\"alert alert-block alert-info\">\n",
        "<b>Note:</b> TPUs read data directly from <code>Google Cloud Storage (GCS)</code> This Kaggle utility will copy the dataset to a GCS bucket co-located with the TPU. If you have multiple datasets attached to the notebook, you can pass the name of a specific dataset to the <code>get_gcs_path function</code>. The name of the dataset is the name of the directory it is mounted in. Use <code>!ls /kaggle/input/</code> to list attached datasets.\n",
        "</div>"
      ]
    },
    {
      "cell_type": "markdown",
      "metadata": {
        "papermill": {
          "duration": 0.045301,
          "end_time": "2020-12-28T20:21:43.615799",
          "exception": false,
          "start_time": "2020-12-28T20:21:43.570498",
          "status": "completed"
        },
        "tags": [],
        "id": "qNjztJK8thgH"
      },
      "source": [
        "![](https://drive.google.com/uc?id=15QPJMCidq3gQM8oCZ6NNlRQHnImV28wP)"
      ]
    },
    {
      "cell_type": "code",
      "metadata": {
        "execution": {
          "iopub.execute_input": "2020-12-28T20:21:43.734477Z",
          "iopub.status.busy": "2020-12-28T20:21:43.733586Z",
          "iopub.status.idle": "2020-12-28T20:21:44.108451Z",
          "shell.execute_reply": "2020-12-28T20:21:44.107658Z"
        },
        "id": "1TNm_-hkDV0o",
        "papermill": {
          "duration": 0.445711,
          "end_time": "2020-12-28T20:21:44.108586",
          "exception": false,
          "start_time": "2020-12-28T20:21:43.662875",
          "status": "completed"
        },
        "tags": []
      },
      "source": [
        "AUTOTUNE = tf.data.experimental.AUTOTUNE\n",
        "GCS_PATH = KaggleDatasets().get_gcs_path('siim-isic-melanoma-classification')\n",
        "BATCH_SIZE = 8 * strategy.num_replicas_in_sync\n",
        "IMAGE_SIZE = [1024, 1024]"
      ],
      "execution_count": null,
      "outputs": []
    },
    {
      "cell_type": "markdown",
      "metadata": {
        "papermill": {
          "duration": 0.042618,
          "end_time": "2020-12-28T20:21:44.194070",
          "exception": false,
          "start_time": "2020-12-28T20:21:44.151452",
          "status": "completed"
        },
        "tags": [],
        "id": "bh4qEQPrthgI"
      },
      "source": [
        "# TF Records :\n",
        "\n",
        "📌TF-Record is Tensorflow’s own binary storage format.\n",
        "\n",
        "📌Any byte-string that can be decoded in TensorFlow could be stored in a TFRecord file. Examples include: Lines of text, JSON ,encoded image data, or serialized tf.Tensors .\n",
        "\n",
        "📌A TFRecord file contains a sequence of records and can only be read sequentially.Each record contains a byte-string, for the data-payload, plus the data-length, and CRC32C (32-bit CRC using the Castagnoli polynomial) hashes for integrity checking.\n"
      ]
    },
    {
      "cell_type": "markdown",
      "metadata": {
        "papermill": {
          "duration": 0.043189,
          "end_time": "2020-12-28T20:21:44.280734",
          "exception": false,
          "start_time": "2020-12-28T20:21:44.237545",
          "status": "completed"
        },
        "tags": [],
        "id": "eEygNpz4thgJ"
      },
      "source": [
        "![](https://drive.google.com/uc?id=10r4NCvxUdK6IhEFWI1UxwVUY4PYYMMVG)"
      ]
    },
    {
      "cell_type": "code",
      "metadata": {
        "execution": {
          "iopub.execute_input": "2020-12-28T20:21:44.606054Z",
          "iopub.status.busy": "2020-12-28T20:21:44.538349Z",
          "iopub.status.idle": "2020-12-28T20:21:44.611019Z",
          "shell.execute_reply": "2020-12-28T20:21:44.611617Z"
        },
        "id": "SUucXwzfDV05",
        "papermill": {
          "duration": 0.288099,
          "end_time": "2020-12-28T20:21:44.611789",
          "exception": false,
          "start_time": "2020-12-28T20:21:44.323690",
          "status": "completed"
        },
        "tags": [],
        "outputId": "32c83bbf-f221-4408-dc25-98e4673d8a8e"
      },
      "source": [
        "TRAINING_FILENAMES, VALID_FILENAMES = train_test_split(\n",
        "    tf.io.gfile.glob(GCS_PATH + '/tfrecords/train*.tfrec'),\n",
        "    test_size=0.1, random_state=42\n",
        ")\n",
        "TEST_FILENAMES = tf.io.gfile.glob(GCS_PATH + '/tfrecords/test*.tfrec')\n",
        "print('Train TFRecord Files:', len(TRAINING_FILENAMES))\n",
        "print('Validation TFRecord Files:', len(VALID_FILENAMES))\n",
        "print('Test TFRecord Files:', len(TEST_FILENAMES))"
      ],
      "execution_count": null,
      "outputs": [
        {
          "output_type": "stream",
          "text": [
            "Train TFRecord Files: 14\n",
            "Validation TFRecord Files: 2\n",
            "Test TFRecord Files: 16\n"
          ],
          "name": "stdout"
        }
      ]
    },
    {
      "cell_type": "markdown",
      "metadata": {
        "papermill": {
          "duration": 0.043385,
          "end_time": "2020-12-28T20:21:44.698832",
          "exception": false,
          "start_time": "2020-12-28T20:21:44.655447",
          "status": "completed"
        },
        "tags": [],
        "id": "XagR7u4ythgM"
      },
      "source": [
        "![](https://drive.google.com/uc?id=1qomd1gdCbw7CA-vdlqtBWAYqsU6-aCtN)\n",
        "\n",
        "Image Source : mc.ai"
      ]
    },
    {
      "cell_type": "markdown",
      "metadata": {
        "papermill": {
          "duration": 0.043234,
          "end_time": "2020-12-28T20:21:44.785634",
          "exception": false,
          "start_time": "2020-12-28T20:21:44.742400",
          "status": "completed"
        },
        "tags": [],
        "id": "jT1Ve_DdthgO"
      },
      "source": [
        "# TF-Data\n",
        "\n",
        "![](https://drive.google.com/uc?id=10M07nrMGrKKVP0KGwAqsm7oNK1mXexsD)"
      ]
    },
    {
      "cell_type": "markdown",
      "metadata": {
        "papermill": {
          "duration": 0.043051,
          "end_time": "2020-12-28T20:21:44.872391",
          "exception": false,
          "start_time": "2020-12-28T20:21:44.829340",
          "status": "completed"
        },
        "tags": [],
        "id": "vtbvfhsLthgP"
      },
      "source": [
        "📌The tf.data API enables you to build complex input pipelines from simple, reusable pieces. The tf.data API also makes it possible to handle large amounts of data, read from different data formats, and perform complex transformations.\n",
        "\n",
        "📌The tf.data API introduces a tf.data.Dataset abstraction that represents a sequence of elements, in which each element consists of one or more components. For example, in an image pipeline, an element might be a single training example, with a pair of tensor components representing the image and its label.\n",
        "\n",
        "🎯 **Input Pipeline :**\n",
        "\n",
        " tf.data.TFRecordDataset() is used to create an input pipeline for data stored in TFRecord format .\n",
        " \n",
        "🎯 **Transformations :**\n",
        "\n",
        "The Dataset object can be transformed into a new Dataset by chaining method calls on the tf.data.Dataset object . Some of the transformations which can be applied are Dataset.map() , Dataset.batch() , Dataset.shuffle() , Dataset.prefetch() .\n",
        "\n",
        "The Dataset object is a Python iterable which  it possible to consume its elements using a for loop .\n"
      ]
    },
    {
      "cell_type": "markdown",
      "metadata": {
        "papermill": {
          "duration": 0.043194,
          "end_time": "2020-12-28T20:21:44.959330",
          "exception": false,
          "start_time": "2020-12-28T20:21:44.916136",
          "status": "completed"
        },
        "tags": [],
        "id": "OY7SGYGMthgQ"
      },
      "source": [
        "![](https://drive.google.com/uc?id=1CLfEMEn9uiPGjhgVZc620djKmBQrwSZV)"
      ]
    },
    {
      "cell_type": "markdown",
      "metadata": {
        "papermill": {
          "duration": 0.043016,
          "end_time": "2020-12-28T20:21:45.046808",
          "exception": false,
          "start_time": "2020-12-28T20:21:45.003792",
          "status": "completed"
        },
        "tags": [],
        "id": "0ijtTx1fthgR"
      },
      "source": [
        "![](https://drive.google.com/uc?id=1x383ghyybTV0jQqBSlHDEc8FWD8AqaHz)\n"
      ]
    },
    {
      "cell_type": "code",
      "metadata": {
        "execution": {
          "iopub.execute_input": "2020-12-28T20:21:45.140801Z",
          "iopub.status.busy": "2020-12-28T20:21:45.139745Z",
          "iopub.status.idle": "2020-12-28T20:21:45.142790Z",
          "shell.execute_reply": "2020-12-28T20:21:45.143355Z"
        },
        "papermill": {
          "duration": 0.053709,
          "end_time": "2020-12-28T20:21:45.143515",
          "exception": false,
          "start_time": "2020-12-28T20:21:45.089806",
          "status": "completed"
        },
        "tags": [],
        "id": "jjmjIfWPthgR"
      },
      "source": [
        "def decode_to_tensor(image):\n",
        "    image = tf.image.decode_jpeg(image, channels=3)\n",
        "    image = tf.cast(image, tf.float32) / 255.0\n",
        "    image = tf.reshape(image, [*IMAGE_SIZE, 3])\n",
        "    return image"
      ],
      "execution_count": null,
      "outputs": []
    },
    {
      "cell_type": "code",
      "metadata": {
        "execution": {
          "iopub.execute_input": "2020-12-28T20:21:45.241585Z",
          "iopub.status.busy": "2020-12-28T20:21:45.240092Z",
          "iopub.status.idle": "2020-12-28T20:21:45.245299Z",
          "shell.execute_reply": "2020-12-28T20:21:45.244656Z"
        },
        "papermill": {
          "duration": 0.058308,
          "end_time": "2020-12-28T20:21:45.245445",
          "exception": false,
          "start_time": "2020-12-28T20:21:45.187137",
          "status": "completed"
        },
        "tags": [],
        "id": "2TS5XjzsthgS"
      },
      "source": [
        "def read_tfrecord(example, labeled):\n",
        "    tfrecord_format = {\n",
        "        \"image\": tf.io.FixedLenFeature([], tf.string),\n",
        "        \"target\": tf.io.FixedLenFeature([], tf.int64)\n",
        "    } if labeled else {\n",
        "        \"image\": tf.io.FixedLenFeature([], tf.string),\n",
        "        \"image_name\": tf.io.FixedLenFeature([], tf.string)\n",
        "    }\n",
        "    example = tf.io.parse_single_example(example, tfrecord_format)\n",
        "    image = decode_to_tensor(example['image'])\n",
        "    if labeled:\n",
        "        label = tf.cast(example['target'], tf.int32)\n",
        "        return image, label\n",
        "    idnum = example['image_name']\n",
        "    return image, idnum"
      ],
      "execution_count": null,
      "outputs": []
    },
    {
      "cell_type": "code",
      "metadata": {
        "execution": {
          "iopub.execute_input": "2020-12-28T20:21:45.342825Z",
          "iopub.status.busy": "2020-12-28T20:21:45.341764Z",
          "iopub.status.idle": "2020-12-28T20:21:45.345632Z",
          "shell.execute_reply": "2020-12-28T20:21:45.344992Z"
        },
        "id": "o3mSVhP0DV1o",
        "papermill": {
          "duration": 0.055912,
          "end_time": "2020-12-28T20:21:45.345767",
          "exception": false,
          "start_time": "2020-12-28T20:21:45.289855",
          "status": "completed"
        },
        "tags": []
      },
      "source": [
        "def load_dataset(filenames, labeled=True, ordered=False):\n",
        "    ignore_order = tf.data.Options()\n",
        "    if not ordered:\n",
        "        ignore_order.experimental_deterministic = False # disable order, increase speed\n",
        "    dataset = tf.data.TFRecordDataset(filenames, num_parallel_reads=AUTOTUNE) # automatically interleaves reads from multiple files\n",
        "    dataset = dataset.with_options(ignore_order) # uses data as soon as it streams in, rather than in its original order\n",
        "    dataset = dataset.map(partial(read_tfrecord, labeled=labeled), num_parallel_calls=AUTOTUNE)\n",
        "    # returns a dataset of (image, label) pairs if labeled=True or (image, id) pairs if labeled=False\n",
        "    return dataset"
      ],
      "execution_count": null,
      "outputs": []
    },
    {
      "cell_type": "markdown",
      "metadata": {
        "papermill": {
          "duration": 0.04432,
          "end_time": "2020-12-28T20:21:45.434451",
          "exception": false,
          "start_time": "2020-12-28T20:21:45.390131",
          "status": "completed"
        },
        "tags": [],
        "id": "mM4FV7irthgU"
      },
      "source": [
        "# Data Augmentation :\n",
        "\n",
        "🎯  Data augmentation is a technique through which one can increase the size of the data for the training of the model without adding the new data. Techniques like padding, cropping, rotating, and flipping are the most common methods that are used over the images to increase the data size. \n",
        "\n",
        "<div class=\"alert alert-block alert-info\">\n",
        "<b>Note:</b> Both <code>Keras Preprocessing Layers</code> and <code>tf.image</code> can be used for data augmentation. For finer control , <code>tf.image</code> is preferred.\n",
        "</div>\n"
      ]
    },
    {
      "cell_type": "markdown",
      "metadata": {
        "papermill": {
          "duration": 0.043559,
          "end_time": "2020-12-28T20:21:45.522221",
          "exception": false,
          "start_time": "2020-12-28T20:21:45.478662",
          "status": "completed"
        },
        "tags": [],
        "id": "YslY6dJHthgW"
      },
      "source": [
        "![](https://drive.google.com/uc?id=1_uGNygnCZ--G_hOP7zEr_oscGjvnBnob)\n",
        "\n",
        "Image Source : medium.com"
      ]
    },
    {
      "cell_type": "code",
      "metadata": {
        "execution": {
          "iopub.execute_input": "2020-12-28T20:21:45.616427Z",
          "iopub.status.busy": "2020-12-28T20:21:45.615549Z",
          "iopub.status.idle": "2020-12-28T20:21:45.619400Z",
          "shell.execute_reply": "2020-12-28T20:21:45.618553Z"
        },
        "id": "ejKOXtWkDV18",
        "papermill": {
          "duration": 0.053472,
          "end_time": "2020-12-28T20:21:45.619536",
          "exception": false,
          "start_time": "2020-12-28T20:21:45.566064",
          "status": "completed"
        },
        "tags": []
      },
      "source": [
        "def augmentation_pipeline(image, label):\n",
        "    image = tf.image.random_flip_left_right(image)\n",
        "    return image, label"
      ],
      "execution_count": null,
      "outputs": []
    },
    {
      "cell_type": "code",
      "metadata": {
        "execution": {
          "iopub.execute_input": "2020-12-28T20:21:45.716424Z",
          "iopub.status.busy": "2020-12-28T20:21:45.715325Z",
          "iopub.status.idle": "2020-12-28T20:21:45.718215Z",
          "shell.execute_reply": "2020-12-28T20:21:45.718839Z"
        },
        "id": "YCFaPMT3DV2M",
        "papermill": {
          "duration": 0.054602,
          "end_time": "2020-12-28T20:21:45.718998",
          "exception": false,
          "start_time": "2020-12-28T20:21:45.664396",
          "status": "completed"
        },
        "tags": []
      },
      "source": [
        "def get_training_dataset():\n",
        "    dataset = load_dataset(TRAINING_FILENAMES, labeled=True)\n",
        "    dataset = dataset.map(augmentation_pipeline, num_parallel_calls=AUTOTUNE)\n",
        "    dataset = dataset.repeat()\n",
        "    dataset = dataset.shuffle(2048)\n",
        "    dataset = dataset.batch(BATCH_SIZE)\n",
        "    dataset = dataset.prefetch(AUTOTUNE)\n",
        "    return dataset"
      ],
      "execution_count": null,
      "outputs": []
    },
    {
      "cell_type": "code",
      "metadata": {
        "execution": {
          "iopub.execute_input": "2020-12-28T20:21:45.815358Z",
          "iopub.status.busy": "2020-12-28T20:21:45.814480Z",
          "iopub.status.idle": "2020-12-28T20:21:45.818198Z",
          "shell.execute_reply": "2020-12-28T20:21:45.817558Z"
        },
        "id": "VTp0EvnYDV2Z",
        "papermill": {
          "duration": 0.055345,
          "end_time": "2020-12-28T20:21:45.818334",
          "exception": false,
          "start_time": "2020-12-28T20:21:45.762989",
          "status": "completed"
        },
        "tags": []
      },
      "source": [
        "def get_validation_dataset(ordered=False):\n",
        "    dataset = load_dataset(VALID_FILENAMES, labeled=True, ordered=ordered)\n",
        "    dataset = dataset.batch(BATCH_SIZE)\n",
        "    dataset = dataset.cache()\n",
        "    dataset = dataset.prefetch(AUTOTUNE)\n",
        "    return dataset"
      ],
      "execution_count": null,
      "outputs": []
    },
    {
      "cell_type": "code",
      "metadata": {
        "execution": {
          "iopub.execute_input": "2020-12-28T20:21:45.915883Z",
          "iopub.status.busy": "2020-12-28T20:21:45.914868Z",
          "iopub.status.idle": "2020-12-28T20:21:45.917481Z",
          "shell.execute_reply": "2020-12-28T20:21:45.918215Z"
        },
        "id": "Usfu_oSmDV2q",
        "papermill": {
          "duration": 0.05538,
          "end_time": "2020-12-28T20:21:45.918392",
          "exception": false,
          "start_time": "2020-12-28T20:21:45.863012",
          "status": "completed"
        },
        "tags": []
      },
      "source": [
        "def get_test_dataset(ordered=False):\n",
        "    dataset = load_dataset(TEST_FILENAMES, labeled=False, ordered=ordered)\n",
        "    dataset = dataset.batch(BATCH_SIZE)\n",
        "    dataset = dataset.prefetch(AUTOTUNE)\n",
        "    return dataset"
      ],
      "execution_count": null,
      "outputs": []
    },
    {
      "cell_type": "code",
      "metadata": {
        "execution": {
          "iopub.execute_input": "2020-12-28T20:21:46.015210Z",
          "iopub.status.busy": "2020-12-28T20:21:46.013904Z",
          "iopub.status.idle": "2020-12-28T20:21:46.017767Z",
          "shell.execute_reply": "2020-12-28T20:21:46.016971Z"
        },
        "id": "gGkwggYrDV23",
        "papermill": {
          "duration": 0.055031,
          "end_time": "2020-12-28T20:21:46.017899",
          "exception": false,
          "start_time": "2020-12-28T20:21:45.962868",
          "status": "completed"
        },
        "tags": []
      },
      "source": [
        "def count_data_items(filenames):\n",
        "    n = [int(re.compile(r\"-([0-9]*)\\.\").search(filename).group(1)) for filename in filenames]\n",
        "    return np.sum(n)"
      ],
      "execution_count": null,
      "outputs": []
    },
    {
      "cell_type": "code",
      "metadata": {
        "execution": {
          "iopub.execute_input": "2020-12-28T20:21:46.114931Z",
          "iopub.status.busy": "2020-12-28T20:21:46.114134Z",
          "iopub.status.idle": "2020-12-28T20:21:46.117938Z",
          "shell.execute_reply": "2020-12-28T20:21:46.119130Z"
        },
        "id": "ERiUO9DIDV3O",
        "papermill": {
          "duration": 0.056716,
          "end_time": "2020-12-28T20:21:46.119349",
          "exception": false,
          "start_time": "2020-12-28T20:21:46.062633",
          "status": "completed"
        },
        "tags": [],
        "outputId": "77972018-7df8-4cf4-d264-7224b74bceb6"
      },
      "source": [
        "NUM_TRAINING_IMAGES = count_data_items(TRAINING_FILENAMES)\n",
        "NUM_VALIDATION_IMAGES = count_data_items(VALID_FILENAMES)\n",
        "NUM_TEST_IMAGES = count_data_items(TEST_FILENAMES)\n",
        "STEPS_PER_EPOCH = NUM_TRAINING_IMAGES // BATCH_SIZE\n",
        "print(\n",
        "    'Dataset: {} training images, {} validation images, {} unlabeled test images'.format(\n",
        "        NUM_TRAINING_IMAGES, NUM_VALIDATION_IMAGES, NUM_TEST_IMAGES\n",
        "    )\n",
        ")"
      ],
      "execution_count": null,
      "outputs": [
        {
          "output_type": "stream",
          "text": [
            "Dataset: 28984 training images, 4142 validation images, 10982 unlabeled test images\n"
          ],
          "name": "stdout"
        }
      ]
    },
    {
      "cell_type": "markdown",
      "metadata": {
        "papermill": {
          "duration": 0.046213,
          "end_time": "2020-12-28T20:21:46.212459",
          "exception": false,
          "start_time": "2020-12-28T20:21:46.166246",
          "status": "completed"
        },
        "tags": [],
        "id": "92ZPaciNthga"
      },
      "source": [
        "📌 **Cyclic learning rates :**\n",
        "\n",
        "<div class=\"alert alert-block alert-info\">\n",
        "Cyclic learning rates  is a learning rate scheduling technique for (1) faster training of a network and (2) a finer understanding of the optimal learning rate. Cyclic learning rates have an effect on the model training process known somewhat fancifully as<code>\"superconvergence\"</code> \n",
        "</div>\n",
        "\n",
        "Source : @residentmario Notebook"
      ]
    },
    {
      "cell_type": "markdown",
      "metadata": {
        "papermill": {
          "duration": 0.045068,
          "end_time": "2020-12-28T20:21:46.304417",
          "exception": false,
          "start_time": "2020-12-28T20:21:46.259349",
          "status": "completed"
        },
        "tags": [],
        "id": "hSMUBTwkthgc"
      },
      "source": [
        "![](https://drive.google.com/uc?id=1bnsglJByd1lc1h9hGrz2WZa1LzVBgtWW)\n",
        "\n",
        "Image Source : https://arxiv.org/abs/1803.09820"
      ]
    },
    {
      "cell_type": "code",
      "metadata": {
        "execution": {
          "iopub.execute_input": "2020-12-28T20:21:46.407271Z",
          "iopub.status.busy": "2020-12-28T20:21:46.406185Z",
          "iopub.status.idle": "2020-12-28T20:21:46.410534Z",
          "shell.execute_reply": "2020-12-28T20:21:46.409729Z"
        },
        "id": "R7qwaU6HDV3f",
        "papermill": {
          "duration": 0.060123,
          "end_time": "2020-12-28T20:21:46.410669",
          "exception": false,
          "start_time": "2020-12-28T20:21:46.350546",
          "status": "completed"
        },
        "tags": []
      },
      "source": [
        "def build_lrfn(lr_start=0.00001, lr_max=0.000075, lr_min=0.000001, lr_rampup_epochs=20, lr_sustain_epochs=0, lr_exp_decay=.8):\n",
        "    lr_max = lr_max * strategy.num_replicas_in_sync\n",
        "    def lrfn(epoch):\n",
        "        if epoch < lr_rampup_epochs:\n",
        "            lr = (lr_max - lr_start) / lr_rampup_epochs * epoch + lr_start\n",
        "        elif epoch < lr_rampup_epochs + lr_sustain_epochs:\n",
        "            lr = lr_max\n",
        "        else:\n",
        "            lr = (lr_max - lr_min) * lr_exp_decay ** (epoch - lr_rampup_epochs - lr_sustain_epochs) + lr_min\n",
        "        return lr\n",
        "    return lrfn"
      ],
      "execution_count": null,
      "outputs": []
    },
    {
      "cell_type": "markdown",
      "metadata": {
        "papermill": {
          "duration": 0.044012,
          "end_time": "2020-12-28T20:21:46.499609",
          "exception": false,
          "start_time": "2020-12-28T20:21:46.455597",
          "status": "completed"
        },
        "tags": [],
        "id": "2IlBWESnthge"
      },
      "source": [
        "# EfficientNets\n",
        "\n",
        "**Compound Model Scaling: A Better Way to Scale Up CNNs**\n",
        "\n",
        "EfficientNets uses a new scaling method that uniformly scales all dimensions of depth/width/resolution using a simple yet highly effective compound coefficient The first step in the compound scaling method is to perform a grid search to find the relationship between different scaling dimensions of the baseline network under a fixed resource constraint.This determines the appropriate scaling coefficient for each of the dimensions mentioned above. We then apply those coefficients to scale up the baseline network to the desired target model size or computational budget.\n",
        "\n",
        "This compound scaling method consistently improves model accuracy and efficiency for scaling up existing models such as MobileNet (+1.4% imagenet accuracy), and ResNet (+0.7%), compared to conventional scaling methods.\n",
        "\n"
      ]
    },
    {
      "cell_type": "markdown",
      "metadata": {
        "papermill": {
          "duration": 0.045067,
          "end_time": "2020-12-28T20:21:46.589605",
          "exception": false,
          "start_time": "2020-12-28T20:21:46.544538",
          "status": "completed"
        },
        "tags": [],
        "id": "xNakt4qcthgf"
      },
      "source": [
        "![](https://drive.google.com/uc?id=18ZzZw0U-4O4iPe1JBVZwUVcn4FCmTS_x)"
      ]
    },
    {
      "cell_type": "markdown",
      "metadata": {
        "papermill": {
          "duration": 0.045544,
          "end_time": "2020-12-28T20:21:46.680343",
          "exception": false,
          "start_time": "2020-12-28T20:21:46.634799",
          "status": "completed"
        },
        "tags": [],
        "id": "EueW-bWYthgf"
      },
      "source": [
        "**EfficientNet Architecture :**\n",
        "\n",
        "The effectiveness of model scaling also relies heavily on the baseline network which  is developed by performing a neural architecture search using the AutoML MNAS framework, which optimizes both accuracy and efficiency (FLOPS). The resulting architecture uses mobile inverted bottleneck convolution (MBConv), similar to MobileNetV2 and MnasNet, but is slightly larger due to an increased FLOP budget.The baseline network is then scaled up to obtain a family of models, called EfficientNets."
      ]
    },
    {
      "cell_type": "markdown",
      "metadata": {
        "papermill": {
          "duration": 0.043952,
          "end_time": "2020-12-28T20:21:46.769837",
          "exception": false,
          "start_time": "2020-12-28T20:21:46.725885",
          "status": "completed"
        },
        "tags": [],
        "id": "iLhLz_zpthgg"
      },
      "source": [
        "![](https://drive.google.com/uc?id=1KVGvxtN4XXvLbt3hCSSZBU04lv0LqgO-)"
      ]
    },
    {
      "cell_type": "markdown",
      "metadata": {
        "papermill": {
          "duration": 0.04414,
          "end_time": "2020-12-28T20:21:46.858340",
          "exception": false,
          "start_time": "2020-12-28T20:21:46.814200",
          "status": "completed"
        },
        "tags": [],
        "id": "HixXTqTithgg"
      },
      "source": [
        "📌 **EfficientNet Performance**\n",
        "\n",
        "<div class=\"alert alert-block alert-info\">\n",
        "<b>Note:</b>\n",
        "The EfficientNet models achieve both higher accuracy and better efficiency over existing CNNs like ResNet , DenseNet etc , reducing parameter size and FLOPS by an order of magnitude. <code></code> \n",
        "</div>\n"
      ]
    },
    {
      "cell_type": "markdown",
      "metadata": {
        "papermill": {
          "duration": 0.044192,
          "end_time": "2020-12-28T20:21:46.946973",
          "exception": false,
          "start_time": "2020-12-28T20:21:46.902781",
          "status": "completed"
        },
        "tags": [],
        "id": "Ajn4XMGQthgh"
      },
      "source": [
        "![](https://drive.google.com/uc?id=1jYu8AMPI9LVF2TQKUgJyKZaZqpsm3U0k)\n",
        "\n",
        "Image Source : EfficientNet Research Paper"
      ]
    },
    {
      "cell_type": "code",
      "metadata": {
        "execution": {
          "iopub.execute_input": "2020-12-28T20:21:47.051001Z",
          "iopub.status.busy": "2020-12-28T20:21:47.050193Z",
          "iopub.status.idle": "2020-12-28T20:24:11.464301Z",
          "shell.execute_reply": "2020-12-28T20:24:11.465275Z"
        },
        "id": "W9KECWJUDV3x",
        "papermill": {
          "duration": 144.473715,
          "end_time": "2020-12-28T20:24:11.465544",
          "exception": false,
          "start_time": "2020-12-28T20:21:46.991829",
          "status": "completed"
        },
        "tags": [],
        "outputId": "a037aa1b-61a8-40f6-f7a3-6fb13de9f443"
      },
      "source": [
        "with strategy.scope():\n",
        "    \n",
        "    train_dataset = get_training_dataset()\n",
        "    valid_dataset = get_validation_dataset()\n",
        "    \n",
        "    model = tf.keras.Sequential([\n",
        "        efn.EfficientNetB6(\n",
        "            input_shape=(*IMAGE_SIZE, 3),\n",
        "            weights='imagenet',\n",
        "            include_top=False\n",
        "        ),\n",
        "        tf.keras.layers.GlobalAveragePooling2D(),\n",
        "        tf.keras.layers.Dense(512, activation= 'relu'), \n",
        "        tf.keras.layers.Dropout(0.25), \n",
        "        tf.keras.layers.Dense(1, activation='sigmoid')\n",
        "    ])\n",
        "    \n",
        "    model.compile(\n",
        "        optimizer='adam',\n",
        "        loss = 'binary_crossentropy',\n",
        "        metrics=['accuracy']\n",
        "    )\n",
        "\n",
        "model.summary()"
      ],
      "execution_count": null,
      "outputs": [
        {
          "output_type": "stream",
          "text": [
            "Downloading data from https://github.com/Callidior/keras-applications/releases/download/efficientnet/efficientnet-b6_weights_tf_dim_ordering_tf_kernels_autoaugment_notop.h5\n",
            "165527552/165527152 [==============================] - 2s 0us/step\n",
            "Model: \"sequential\"\n",
            "_________________________________________________________________\n",
            "Layer (type)                 Output Shape              Param #   \n",
            "=================================================================\n",
            "efficientnet-b6 (Model)      (None, 32, 32, 2304)      40960136  \n",
            "_________________________________________________________________\n",
            "global_average_pooling2d (Gl (None, 2304)              0         \n",
            "_________________________________________________________________\n",
            "dense (Dense)                (None, 512)               1180160   \n",
            "_________________________________________________________________\n",
            "dropout (Dropout)            (None, 512)               0         \n",
            "_________________________________________________________________\n",
            "dense_1 (Dense)              (None, 1)                 513       \n",
            "=================================================================\n",
            "Total params: 42,140,809\n",
            "Trainable params: 41,916,377\n",
            "Non-trainable params: 224,432\n",
            "_________________________________________________________________\n"
          ],
          "name": "stdout"
        }
      ]
    },
    {
      "cell_type": "code",
      "metadata": {
        "execution": {
          "iopub.execute_input": "2020-12-28T20:24:11.608400Z",
          "iopub.status.busy": "2020-12-28T20:24:11.597950Z",
          "iopub.status.idle": "2020-12-28T20:30:30.910030Z",
          "shell.execute_reply": "2020-12-28T20:30:30.911003Z"
        },
        "id": "C2H6UD7zDV4S",
        "papermill": {
          "duration": 379.382952,
          "end_time": "2020-12-28T20:30:30.911226",
          "exception": false,
          "start_time": "2020-12-28T20:24:11.528274",
          "status": "completed"
        },
        "tags": []
      },
      "source": [
        "lrfn = build_lrfn()\n",
        "STEPS_PER_EPOCH = NUM_TRAINING_IMAGES // BATCH_SIZE\n",
        "VALID_STEPS = NUM_VALIDATION_IMAGES // BATCH_SIZE\n",
        "\n",
        "\n",
        "history = model.fit(\n",
        "    train_dataset, epochs=1,\n",
        "    steps_per_epoch=STEPS_PER_EPOCH,\n",
        "    validation_data=valid_dataset,\n",
        "    validation_steps=VALID_STEPS,\n",
        "    callbacks=[\n",
        "        tf.keras.callbacks.LearningRateScheduler(lrfn, verbose=1),\n",
        "        tf.keras.callbacks.ModelCheckpoint(\n",
        "            os.path.join(\"./model.h5\"),\n",
        "            monitor='train_loss', verbose=0,\n",
        "            save_best_only=True, save_weights_only=False,\n",
        "            mode='auto', save_freq='epoch'\n",
        "        )\n",
        "    ]\n",
        ")"
      ],
      "execution_count": null,
      "outputs": []
    },
    {
      "cell_type": "code",
      "metadata": {
        "execution": {
          "iopub.execute_input": "2020-12-28T20:30:31.075054Z",
          "iopub.status.busy": "2020-12-28T20:30:31.074294Z",
          "iopub.status.idle": "2020-12-28T20:30:31.113549Z",
          "shell.execute_reply": "2020-12-28T20:30:31.112873Z"
        },
        "id": "DX-AS9uwDV4u",
        "papermill": {
          "duration": 0.138382,
          "end_time": "2020-12-28T20:30:31.113688",
          "exception": false,
          "start_time": "2020-12-28T20:30:30.975306",
          "status": "completed"
        },
        "tags": [],
        "outputId": "f5370526-8616-4e5a-d826-8273c40b98c6"
      },
      "source": [
        "sub = pd.read_csv('/kaggle/input/siim-isic-melanoma-classification/sample_submission.csv')\n",
        "sub.head()"
      ],
      "execution_count": null,
      "outputs": [
        {
          "output_type": "execute_result",
          "data": {
            "text/html": [
              "<div>\n",
              "<style scoped>\n",
              "    .dataframe tbody tr th:only-of-type {\n",
              "        vertical-align: middle;\n",
              "    }\n",
              "\n",
              "    .dataframe tbody tr th {\n",
              "        vertical-align: top;\n",
              "    }\n",
              "\n",
              "    .dataframe thead th {\n",
              "        text-align: right;\n",
              "    }\n",
              "</style>\n",
              "<table border=\"1\" class=\"dataframe\">\n",
              "  <thead>\n",
              "    <tr style=\"text-align: right;\">\n",
              "      <th></th>\n",
              "      <th>image_name</th>\n",
              "      <th>target</th>\n",
              "    </tr>\n",
              "  </thead>\n",
              "  <tbody>\n",
              "    <tr>\n",
              "      <th>0</th>\n",
              "      <td>ISIC_0052060</td>\n",
              "      <td>0</td>\n",
              "    </tr>\n",
              "    <tr>\n",
              "      <th>1</th>\n",
              "      <td>ISIC_0052349</td>\n",
              "      <td>0</td>\n",
              "    </tr>\n",
              "    <tr>\n",
              "      <th>2</th>\n",
              "      <td>ISIC_0058510</td>\n",
              "      <td>0</td>\n",
              "    </tr>\n",
              "    <tr>\n",
              "      <th>3</th>\n",
              "      <td>ISIC_0073313</td>\n",
              "      <td>0</td>\n",
              "    </tr>\n",
              "    <tr>\n",
              "      <th>4</th>\n",
              "      <td>ISIC_0073502</td>\n",
              "      <td>0</td>\n",
              "    </tr>\n",
              "  </tbody>\n",
              "</table>\n",
              "</div>"
            ],
            "text/plain": [
              "     image_name  target\n",
              "0  ISIC_0052060       0\n",
              "1  ISIC_0052349       0\n",
              "2  ISIC_0058510       0\n",
              "3  ISIC_0073313       0\n",
              "4  ISIC_0073502       0"
            ]
          },
          "metadata": {
            "tags": []
          },
          "execution_count": 19
        }
      ]
    },
    {
      "cell_type": "code",
      "metadata": {
        "execution": {
          "iopub.execute_input": "2020-12-28T20:30:31.258460Z",
          "iopub.status.busy": "2020-12-28T20:30:31.257364Z",
          "iopub.status.idle": "2020-12-28T20:31:59.954769Z",
          "shell.execute_reply": "2020-12-28T20:31:59.954126Z"
        },
        "id": "cG64ekdXDV4_",
        "papermill": {
          "duration": 88.767994,
          "end_time": "2020-12-28T20:31:59.954910",
          "exception": false,
          "start_time": "2020-12-28T20:30:31.186916",
          "status": "completed"
        },
        "tags": [],
        "outputId": "e72ccc89-1144-4550-d9bf-5233c49de609"
      },
      "source": [
        "test_ds = get_test_dataset(ordered=True)\n",
        "\n",
        "print('Computing predictions...')\n",
        "test_images_ds = test_ds.map(lambda image, idnum: image)\n",
        "probabilities = model.predict(test_images_ds)"
      ],
      "execution_count": null,
      "outputs": [
        {
          "output_type": "stream",
          "text": [
            "Computing predictions...\n"
          ],
          "name": "stdout"
        }
      ]
    },
    {
      "cell_type": "code",
      "metadata": {
        "execution": {
          "iopub.execute_input": "2020-12-28T20:32:00.088722Z",
          "iopub.status.busy": "2020-12-28T20:32:00.087908Z",
          "iopub.status.idle": "2020-12-28T20:32:12.215655Z",
          "shell.execute_reply": "2020-12-28T20:32:12.215002Z"
        },
        "id": "toh9qEIHDV5O",
        "papermill": {
          "duration": 12.198278,
          "end_time": "2020-12-28T20:32:12.215793",
          "exception": false,
          "start_time": "2020-12-28T20:32:00.017515",
          "status": "completed"
        },
        "tags": [],
        "outputId": "4616b3b6-24ef-40ab-af60-e1c1d07af4fb"
      },
      "source": [
        "print('Generating submission.csv file...')\n",
        "test_ids_ds = test_ds.map(lambda image, idnum: idnum).unbatch()\n",
        "test_ids = next(iter(test_ids_ds.batch(NUM_TEST_IMAGES))).numpy().astype('U')"
      ],
      "execution_count": null,
      "outputs": [
        {
          "output_type": "stream",
          "text": [
            "Generating submission.csv file...\n"
          ],
          "name": "stdout"
        }
      ]
    },
    {
      "cell_type": "code",
      "metadata": {
        "execution": {
          "iopub.execute_input": "2020-12-28T20:32:12.359057Z",
          "iopub.status.busy": "2020-12-28T20:32:12.358292Z",
          "iopub.status.idle": "2020-12-28T20:32:12.380616Z",
          "shell.execute_reply": "2020-12-28T20:32:12.379832Z"
        },
        "id": "Qhn36kErDV5y",
        "papermill": {
          "duration": 0.100711,
          "end_time": "2020-12-28T20:32:12.380744",
          "exception": false,
          "start_time": "2020-12-28T20:32:12.280033",
          "status": "completed"
        },
        "tags": [],
        "outputId": "8950241e-1e43-41de-da98-330bece08cbd"
      },
      "source": [
        "pred_df = pd.DataFrame({'image_name': test_ids, 'target': np.concatenate(probabilities)})\n",
        "pred_df.head()"
      ],
      "execution_count": null,
      "outputs": [
        {
          "output_type": "execute_result",
          "data": {
            "text/html": [
              "<div>\n",
              "<style scoped>\n",
              "    .dataframe tbody tr th:only-of-type {\n",
              "        vertical-align: middle;\n",
              "    }\n",
              "\n",
              "    .dataframe tbody tr th {\n",
              "        vertical-align: top;\n",
              "    }\n",
              "\n",
              "    .dataframe thead th {\n",
              "        text-align: right;\n",
              "    }\n",
              "</style>\n",
              "<table border=\"1\" class=\"dataframe\">\n",
              "  <thead>\n",
              "    <tr style=\"text-align: right;\">\n",
              "      <th></th>\n",
              "      <th>image_name</th>\n",
              "      <th>target</th>\n",
              "    </tr>\n",
              "  </thead>\n",
              "  <tbody>\n",
              "    <tr>\n",
              "      <th>0</th>\n",
              "      <td>ISIC_6381819</td>\n",
              "      <td>0.524593</td>\n",
              "    </tr>\n",
              "    <tr>\n",
              "      <th>1</th>\n",
              "      <td>ISIC_5583376</td>\n",
              "      <td>0.516386</td>\n",
              "    </tr>\n",
              "    <tr>\n",
              "      <th>2</th>\n",
              "      <td>ISIC_6408546</td>\n",
              "      <td>0.497855</td>\n",
              "    </tr>\n",
              "    <tr>\n",
              "      <th>3</th>\n",
              "      <td>ISIC_6932354</td>\n",
              "      <td>0.494086</td>\n",
              "    </tr>\n",
              "    <tr>\n",
              "      <th>4</th>\n",
              "      <td>ISIC_8191278</td>\n",
              "      <td>0.459409</td>\n",
              "    </tr>\n",
              "  </tbody>\n",
              "</table>\n",
              "</div>"
            ],
            "text/plain": [
              "     image_name    target\n",
              "0  ISIC_6381819  0.524593\n",
              "1  ISIC_5583376  0.516386\n",
              "2  ISIC_6408546  0.497855\n",
              "3  ISIC_6932354  0.494086\n",
              "4  ISIC_8191278  0.459409"
            ]
          },
          "metadata": {
            "tags": []
          },
          "execution_count": 22
        }
      ]
    },
    {
      "cell_type": "code",
      "metadata": {
        "execution": {
          "iopub.execute_input": "2020-12-28T20:32:12.533078Z",
          "iopub.status.busy": "2020-12-28T20:32:12.525010Z",
          "iopub.status.idle": "2020-12-28T20:32:12.681862Z",
          "shell.execute_reply": "2020-12-28T20:32:12.681119Z"
        },
        "id": "zUgVYFUIDV6D",
        "papermill": {
          "duration": 0.234112,
          "end_time": "2020-12-28T20:32:12.681989",
          "exception": false,
          "start_time": "2020-12-28T20:32:12.447877",
          "status": "completed"
        },
        "tags": [],
        "outputId": "1245c3fb-5482-48a4-a9ca-33f1ab6f3142"
      },
      "source": [
        "del sub['target']\n",
        "sub = sub.merge(pred_df, on='image_name')\n",
        "sub.to_csv('submission.csv', index=False)\n",
        "sub.head()"
      ],
      "execution_count": null,
      "outputs": [
        {
          "output_type": "execute_result",
          "data": {
            "text/html": [
              "<div>\n",
              "<style scoped>\n",
              "    .dataframe tbody tr th:only-of-type {\n",
              "        vertical-align: middle;\n",
              "    }\n",
              "\n",
              "    .dataframe tbody tr th {\n",
              "        vertical-align: top;\n",
              "    }\n",
              "\n",
              "    .dataframe thead th {\n",
              "        text-align: right;\n",
              "    }\n",
              "</style>\n",
              "<table border=\"1\" class=\"dataframe\">\n",
              "  <thead>\n",
              "    <tr style=\"text-align: right;\">\n",
              "      <th></th>\n",
              "      <th>image_name</th>\n",
              "      <th>target</th>\n",
              "    </tr>\n",
              "  </thead>\n",
              "  <tbody>\n",
              "    <tr>\n",
              "      <th>0</th>\n",
              "      <td>ISIC_0052060</td>\n",
              "      <td>0.503272</td>\n",
              "    </tr>\n",
              "    <tr>\n",
              "      <th>1</th>\n",
              "      <td>ISIC_0052349</td>\n",
              "      <td>0.494390</td>\n",
              "    </tr>\n",
              "    <tr>\n",
              "      <th>2</th>\n",
              "      <td>ISIC_0058510</td>\n",
              "      <td>0.500467</td>\n",
              "    </tr>\n",
              "    <tr>\n",
              "      <th>3</th>\n",
              "      <td>ISIC_0073313</td>\n",
              "      <td>0.486549</td>\n",
              "    </tr>\n",
              "    <tr>\n",
              "      <th>4</th>\n",
              "      <td>ISIC_0073502</td>\n",
              "      <td>0.530081</td>\n",
              "    </tr>\n",
              "  </tbody>\n",
              "</table>\n",
              "</div>"
            ],
            "text/plain": [
              "     image_name    target\n",
              "0  ISIC_0052060  0.503272\n",
              "1  ISIC_0052349  0.494390\n",
              "2  ISIC_0058510  0.500467\n",
              "3  ISIC_0073313  0.486549\n",
              "4  ISIC_0073502  0.530081"
            ]
          },
          "metadata": {
            "tags": []
          },
          "execution_count": 23
        }
      ]
    },
    {
      "cell_type": "markdown",
      "metadata": {
        "papermill": {
          "duration": 0.064847,
          "end_time": "2020-12-28T20:32:12.812039",
          "exception": false,
          "start_time": "2020-12-28T20:32:12.747192",
          "status": "completed"
        },
        "tags": [],
        "id": "CUPvmjLIthgn"
      },
      "source": [
        "Follow me on Twitter @Urengaraju"
      ]
    },
    {
      "cell_type": "markdown",
      "metadata": {
        "papermill": {
          "duration": 0.064329,
          "end_time": "2020-12-28T20:32:12.941818",
          "exception": false,
          "start_time": "2020-12-28T20:32:12.877489",
          "status": "completed"
        },
        "tags": [],
        "id": "JeF09yd0thgo"
      },
      "source": [
        "# References :\n",
        "\n",
        "https://www.kaggle.com/mgornergoogle/getting-started-with-100-flowers-on-tpu\n",
        "\n",
        "https://www.tensorflow.org/tutorials/load_data/tfrecord\n",
        "\n",
        "https://cloud.google.com/tpu\n",
        "\n",
        "https://www.tensorflow.org/guide/tpu\n",
        "\n",
        "https://www.tensorflow.org/tutorials/images/data_augmentation\n",
        "\n",
        "https://ai.googleblog.com/2019/05/efficientnet-improving-accuracy-and.html\n",
        "\n"
      ]
    }
  ]
}